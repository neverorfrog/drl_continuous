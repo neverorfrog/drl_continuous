{
 "cells": [
  {
   "cell_type": "markdown",
   "metadata": {
    "id": "h4B928jSOX5V"
   },
   "source": [
    "[![Open In Colab](https://colab.research.google.com/assets/colab-badge.svg)](https://colab.research.google.com/github/neverorfrog/drl_continuous/blob/main/drl_continous/scripts/frozen_lake_main.ipynb)"
   ]
  },
  {
   "cell_type": "code",
   "execution_count": null,
   "metadata": {
    "colab": {
     "base_uri": "https://localhost:8080/"
    },
    "id": "jfYCyHOuOX5X",
    "outputId": "630d37f7-ad9e-4186-973e-df463d6d93eb"
   },
   "outputs": [],
   "source": [
    "import sys\n",
    "import warnings\n",
    "import os\n",
    "\n",
    "warnings.filterwarnings('ignore')\n",
    "\n",
    "COLAB_RUNTIME = 'google.colab' in sys.modules\n",
    "!nvidia-smi &> /dev/null || echo -e \"\\e[31mWarning: No GPU found. Please check your runtime settings.\\e[0m\"\n",
    "if COLAB_RUNTIME:\n",
    "    !git config --global init.defaultBranch main\n",
    "    !git init\n",
    "    !git remote add origin https://github.com/neverorfrog/drl_continuous.git\n",
    "    !git pull origin main\n",
    "    !pip install --quiet -e .\n",
    "else: # Development mode, setting precommit checks\n",
    "    !pip install --quiet -e .\n",
    "    !pre-commit autoupdate\n",
    "    !pre-commit install"
   ]
  },
  {
   "cell_type": "code",
   "execution_count": null,
   "metadata": {
    "colab": {
     "base_uri": "https://localhost:8080/"
    },
    "id": "Izb0EARDOX5Z",
    "outputId": "bfe3d2ca-f0ab-4dbc-bd80-d5fcb3003e68"
   },
   "outputs": [],
   "source": [
    "from drl_continous.environments import ContinuousFrozenLake\n",
    "from drl_continous.agents import SAC\n",
    "import wandb\n",
    "from drl_continous.utils.definitions import RewardType"
   ]
  },
  {
   "cell_type": "code",
   "execution_count": null,
   "metadata": {
    "id": "A01EVCXdOX5Z"
   },
   "outputs": [],
   "source": [
    "env_reward_type = RewardType.dense\n",
    "map_name = \"lab\"\n",
    "experiment_name = f\"sac-{env_reward_type.name}-{map_name}\"\n",
    "wandb.init(project=\"drl-continuous-frozenlake\", group=experiment_name)"
   ]
  },
  {
   "cell_type": "code",
   "execution_count": null,
   "metadata": {},
   "outputs": [],
   "source": [
    "env = ContinuousFrozenLake(map_name = \"lab\", reward_type = env_reward_type, is_rendered = False, is_slippery = False)\n",
    "agent = SAC(name = experiment_name, env = env, max_episodes = 600)"
   ]
  },
  {
   "cell_type": "code",
   "execution_count": null,
   "metadata": {
    "colab": {
     "base_uri": "https://localhost:8080/",
     "height": 373
    },
    "id": "Gv9vQ6waOX5a",
    "outputId": "0a816ebb-8a81-4a17-ce99-97e088905263"
   },
   "outputs": [],
   "source": [
    "agent.train()\n",
    "agent.save()"
   ]
  },
  {
   "cell_type": "code",
   "execution_count": null,
   "metadata": {
    "id": "cGQ8itVXOX5a"
   },
   "outputs": [],
   "source": [
    "agent.load()\n",
    "env.is_rendered = True\n",
    "agent.evaluate()"
   ]
  }
 ],
 "metadata": {
  "accelerator": "GPU",
  "colab": {
   "gpuType": "T4",
   "provenance": []
  },
  "kernelspec": {
   "display_name": "drl-continous",
   "language": "python",
   "name": "python3"
  },
  "language_info": {
   "codemirror_mode": {
    "name": "ipython",
    "version": 3
   },
   "file_extension": ".py",
   "mimetype": "text/x-python",
   "name": "python",
   "nbconvert_exporter": "python",
   "pygments_lexer": "ipython3",
   "version": "3.11.10"
  }
 },
 "nbformat": 4,
 "nbformat_minor": 0
}
