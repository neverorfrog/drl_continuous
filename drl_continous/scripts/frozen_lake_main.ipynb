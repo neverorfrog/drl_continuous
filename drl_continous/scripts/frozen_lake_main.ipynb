{
 "cells": [
  {
   "cell_type": "markdown",
   "metadata": {},
   "source": [
    "[![Open In Colab](https://colab.research.google.com/assets/colab-badge.svg)](https://colab.research.google.com/github/neverorfrog/drl_continuous/blob/main/drl_continous/scripts/frozen_lake_main.ipynb)"
   ]
  },
  {
   "cell_type": "code",
   "execution_count": null,
   "metadata": {},
   "outputs": [
    {
     "name": "stdout",
     "output_type": "stream",
     "text": [
      "\u001b[31mWarning: No GPU found. Please check your runtime settings.\u001b[0m\n",
      "\u001b[31mERROR: Could not open requirements file: [Errno 2] No such file or directory: 'requirements.txt'\u001b[0m\u001b[31m\n",
      "\u001b[0m[https://github.com/psf/black] already up to date!\n",
      "[https://github.com/pycqa/isort] already up to date!\n",
      "pre-commit installed at .git/hooks/pre-commit\n"
     ]
    }
   ],
   "source": [
    "import sys\n",
    "import warnings\n",
    "import os\n",
    "\n",
    "warnings.filterwarnings('ignore')\n",
    "\n",
    "COLAB_RUNTIME = 'google.colab' in sys.modules\n",
    "!nvidia-smi &> /dev/null || echo -e \"\\e[31mWarning: No GPU found. Please check your runtime settings.\\e[0m\"\n",
    "if COLAB_RUNTIME:\n",
    "    !git config --global init.defaultBranch main\n",
    "    !git init\n",
    "    !git remote add origin https://github.com/neverorfrog/drl_continuous.git\n",
    "    !git pull origin main\n",
    "    requirements_path = os.path.join(os.getcwd(), 'requirements.txt')\n",
    "    if not os.path.exists(requirements_path):\n",
    "        raise FileNotFoundError(f\"requirements.txt not found in the root folder of this repo\")\n",
    "    !pip install -r $requirements_path\n",
    "else: # Development mode, setting precommit checks \n",
    "    !pip install -q -r requirements.txt\n",
    "    !pre-commit autoupdate\n",
    "    !pre-commit install"
   ]
  },
  {
   "cell_type": "code",
   "execution_count": null,
   "metadata": {},
   "outputs": [],
   "source": [
    "from drl_continous.environments import ContinuousFrozenLake\n",
    "from drl_continous.agents import SAC\n",
    "import wandb\n",
    "from drl_continous.utils.definitions import RewardType"
   ]
  },
  {
   "cell_type": "code",
   "execution_count": null,
   "metadata": {},
   "outputs": [],
   "source": [
    "env_reward_type = RewardType.dense\n",
    "map_name = \"lab\"\n",
    "experiment_name = f\"sac-{env_reward_type.name}-{map_name}\"\n",
    "wandb.init(project=\"drl-continuous-frozenlake\", group=experiment_name)"
   ]
  },
  {
   "cell_type": "code",
   "execution_count": null,
   "metadata": {},
   "outputs": [],
   "source": [
    "env = ContinuousFrozenLake(map_name = \"lab\", reward_type = env_reward_type, is_rendered = False, is_slippery = False)\n",
    "agent = SAC(name = experiment_name, env = env, max_episodes = 3000)\n",
    "agent.train()\n",
    "agent.save()"
   ]
  },
  {
   "cell_type": "code",
   "execution_count": null,
   "metadata": {},
   "outputs": [],
   "source": [
    "env.is_rendered = True\n",
    "agent.evaluate()"
   ]
  }
 ],
 "metadata": {
  "kernelspec": {
   "display_name": "drl-continous",
   "language": "python",
   "name": "python3"
  },
  "language_info": {
   "codemirror_mode": {
    "name": "ipython",
    "version": 3
   },
   "file_extension": ".py",
   "mimetype": "text/x-python",
   "name": "python",
   "nbconvert_exporter": "python",
   "pygments_lexer": "ipython3",
   "version": "3.11.10"
  }
 },
 "nbformat": 4,
 "nbformat_minor": 2
}
