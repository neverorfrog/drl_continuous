{
 "cells": [
  {
   "cell_type": "markdown",
   "metadata": {
    "id": "h4B928jSOX5V"
   },
   "source": [
    "[![Open In Colab](https://colab.research.google.com/assets/colab-badge.svg)](https://colab.research.google.com/github/neverorfrog/drl_continuous/blob/main/drl_continous/scripts/frozen_lake_main.ipynb)"
   ]
  },
  {
   "cell_type": "code",
   "execution_count": 1,
   "metadata": {
    "colab": {
     "base_uri": "https://localhost:8080/"
    },
    "id": "jfYCyHOuOX5X",
    "outputId": "630d37f7-ad9e-4186-973e-df463d6d93eb"
   },
   "outputs": [],
   "source": [
    "import sys\n",
    "import warnings\n",
    "\n",
    "warnings.filterwarnings('ignore')\n",
    "\n",
    "COLAB_RUNTIME = 'google.colab' in sys.modules\n",
    "if COLAB_RUNTIME:\n",
    "    !nvidia-smi &> /dev/null || echo -e \"\\e[31mWarning: No GPU found. Please check your runtime settings.\\e[0m\"\n",
    "    !git config --global init.defaultBranch main\n",
    "    !git init\n",
    "    !git remote add origin https://github.com/neverorfrog/drl_continuous.git\n",
    "    !git pull origin main\n",
    "    !pip install --quiet -e ."
   ]
  },
  {
   "cell_type": "code",
   "execution_count": 2,
   "metadata": {
    "colab": {
     "base_uri": "https://localhost:8080/"
    },
    "id": "Izb0EARDOX5Z",
    "outputId": "bfe3d2ca-f0ab-4dbc-bd80-d5fcb3003e68"
   },
   "outputs": [
    {
     "name": "stdout",
     "output_type": "stream",
     "text": [
      "pygame 2.5.2 (SDL 2.28.2, Python 3.11.10)\n",
      "Hello from the pygame community. https://www.pygame.org/contribute.html\n"
     ]
    }
   ],
   "source": [
    "from drl_continuous.environments import ContinuousFrozenLake\n",
    "from drl_continuous.agents import SAC\n",
    "import wandb\n",
    "from drl_continuous.utils.definitions import RewardType"
   ]
  },
  {
   "cell_type": "code",
   "execution_count": 3,
   "metadata": {
    "id": "A01EVCXdOX5Z"
   },
   "outputs": [],
   "source": [
    "env_reward_type = RewardType.model\n",
    "map_name = \"block2\"\n",
    "experiment_name = f\"sac-{env_reward_type.name}-{map_name}\"\n",
    "env = ContinuousFrozenLake(map_name =  map_name, reward_type = env_reward_type, is_rendered = False, is_slippery = True)\n",
    "agent = SAC(name = experiment_name, env = env, max_episodes = 200)"
   ]
  },
  {
   "cell_type": "code",
   "execution_count": 4,
   "metadata": {
    "colab": {
     "base_uri": "https://localhost:8080/",
     "height": 373
    },
    "id": "Gv9vQ6waOX5a",
    "outputId": "0a816ebb-8a81-4a17-ce99-97e088905263"
   },
   "outputs": [
    {
     "name": "stderr",
     "output_type": "stream",
     "text": [
      "Failed to detect the name of this notebook, you can set it manually with the WANDB_NOTEBOOK_NAME environment variable to enable code saving.\n",
      "\u001b[34m\u001b[1mwandb\u001b[0m: Currently logged in as: \u001b[33mneverorfrog\u001b[0m (\u001b[33mneverorfrog-sapienza\u001b[0m). Use \u001b[1m`wandb login --relogin`\u001b[0m to force relogin\n"
     ]
    },
    {
     "data": {
      "text/html": [
       "wandb version 0.18.6 is available!  To upgrade, please run:\n",
       " $ pip install wandb --upgrade"
      ],
      "text/plain": [
       "<IPython.core.display.HTML object>"
      ]
     },
     "metadata": {},
     "output_type": "display_data"
    },
    {
     "data": {
      "text/html": [
       "Tracking run with wandb version 0.16.5"
      ],
      "text/plain": [
       "<IPython.core.display.HTML object>"
      ]
     },
     "metadata": {},
     "output_type": "display_data"
    },
    {
     "data": {
      "text/html": [
       "Run data is saved locally in <code>/home/neverorfrog/code/ricerca-rl/drl_continuous/drl_continuous/scripts/wandb/run-20241107_090956-d0t4rmgc</code>"
      ],
      "text/plain": [
       "<IPython.core.display.HTML object>"
      ]
     },
     "metadata": {},
     "output_type": "display_data"
    },
    {
     "data": {
      "text/html": [
       "Syncing run <strong><a href='https://wandb.ai/neverorfrog-sapienza/drl-continuous-frozenlake/runs/d0t4rmgc/workspace' target=\"_blank\">dark-salad-108</a></strong> to <a href='https://wandb.ai/neverorfrog-sapienza/drl-continuous-frozenlake' target=\"_blank\">Weights & Biases</a> (<a href='https://wandb.me/run' target=\"_blank\">docs</a>)<br/>"
      ],
      "text/plain": [
       "<IPython.core.display.HTML object>"
      ]
     },
     "metadata": {},
     "output_type": "display_data"
    },
    {
     "data": {
      "text/html": [
       " View project at <a href='https://wandb.ai/neverorfrog-sapienza/drl-continuous-frozenlake' target=\"_blank\">https://wandb.ai/neverorfrog-sapienza/drl-continuous-frozenlake</a>"
      ],
      "text/plain": [
       "<IPython.core.display.HTML object>"
      ]
     },
     "metadata": {},
     "output_type": "display_data"
    },
    {
     "data": {
      "text/html": [
       " View run at <a href='https://wandb.ai/neverorfrog-sapienza/drl-continuous-frozenlake/runs/d0t4rmgc/workspace' target=\"_blank\">https://wandb.ai/neverorfrog-sapienza/drl-continuous-frozenlake/runs/d0t4rmgc/workspace</a>"
      ],
      "text/plain": [
       "<IPython.core.display.HTML object>"
      ]
     },
     "metadata": {},
     "output_type": "display_data"
    },
    {
     "name": "stderr",
     "output_type": "stream",
     "text": [
      "Episode 200 Mean Reward: 804.21 Ep_Reward: 1281.13 Termination: GOAL REACHED: 100%|██████████| 200/200 [01:54<00:00,  1.75it/s]\n"
     ]
    },
    {
     "name": "stdout",
     "output_type": "stream",
     "text": [
      "MODELS SAVED!\n"
     ]
    },
    {
     "data": {
      "text/html": [
       "<style>\n",
       "    table.wandb td:nth-child(1) { padding: 0 10px; text-align: left ; width: auto;} td:nth-child(2) {text-align: left ; width: 100%}\n",
       "    .wandb-row { display: flex; flex-direction: row; flex-wrap: wrap; justify-content: flex-start; width: 100% }\n",
       "    .wandb-col { display: flex; flex-direction: column; flex-basis: 100%; flex: 1; padding: 10px; }\n",
       "    </style>\n",
       "<div class=\"wandb-row\"><div class=\"wandb-col\"><h3>Run history:</h3><br/><table class=\"wandb\"><tr><td>mean_reward</td><td>▅▁▂▃▅▅▆▆▆▅▆▆▆▆▆▆▆▆▆▆▆▆▇▇▇▆▆▆▇▇▇▇▇▇█▆▆▆▇▇</td></tr><tr><td>reward</td><td>▅▅▅▆▆▆▆▆▅▆▅▆▆▅▅▆▆▆▅▅▆▆▆▆▆▅▆▆▆▆▆▆▆▆▇▁▆▆▆█</td></tr></table><br/></div><div class=\"wandb-col\"><h3>Run summary:</h3><br/><table class=\"wandb\"><tr><td>mean_reward</td><td>804.21229</td></tr><tr><td>reward</td><td>1281.12973</td></tr></table><br/></div></div>"
      ],
      "text/plain": [
       "<IPython.core.display.HTML object>"
      ]
     },
     "metadata": {},
     "output_type": "display_data"
    },
    {
     "data": {
      "text/html": [
       " View run <strong style=\"color:#cdcd00\">dark-salad-108</strong> at: <a href='https://wandb.ai/neverorfrog-sapienza/drl-continuous-frozenlake/runs/d0t4rmgc/workspace' target=\"_blank\">https://wandb.ai/neverorfrog-sapienza/drl-continuous-frozenlake/runs/d0t4rmgc/workspace</a><br/>Synced 6 W&B file(s), 0 media file(s), 0 artifact file(s) and 0 other file(s)"
      ],
      "text/plain": [
       "<IPython.core.display.HTML object>"
      ]
     },
     "metadata": {},
     "output_type": "display_data"
    },
    {
     "data": {
      "text/html": [
       "Find logs at: <code>./wandb/run-20241107_090956-d0t4rmgc/logs</code>"
      ],
      "text/plain": [
       "<IPython.core.display.HTML object>"
      ]
     },
     "metadata": {},
     "output_type": "display_data"
    },
    {
     "name": "stdout",
     "output_type": "stream",
     "text": [
      "MODELS SAVED!\n"
     ]
    }
   ],
   "source": [
    "wandb.init(project=\"drl-continuous-frozenlake\", group=experiment_name)\n",
    "agent.train()\n",
    "wandb.finish()\n",
    "agent.save()"
   ]
  },
  {
   "cell_type": "code",
   "execution_count": 5,
   "metadata": {
    "id": "cGQ8itVXOX5a"
   },
   "outputs": [
    {
     "name": "stdout",
     "output_type": "stream",
     "text": [
      "MODELS LOADED!\n",
      "Starting game 1\n",
      "\tTotal Reward: 1270.7268686153345\n",
      "Starting game 2\n",
      "\tTotal Reward: 1270.5730688912804\n",
      "Starting game 3\n",
      "\tTotal Reward: 1270.44150535267\n",
      "Mean Reward:  1270.5804809530948\n"
     ]
    }
   ],
   "source": [
    "agent.load()\n",
    "env.is_rendered = True\n",
    "agent.evaluate()\n",
    "env.quit_render()"
   ]
  }
 ],
 "metadata": {
  "accelerator": "GPU",
  "colab": {
   "gpuType": "T4",
   "provenance": []
  },
  "kernelspec": {
   "display_name": "drl-continous",
   "language": "python",
   "name": "python3"
  },
  "language_info": {
   "codemirror_mode": {
    "name": "ipython",
    "version": 3
   },
   "file_extension": ".py",
   "mimetype": "text/x-python",
   "name": "python",
   "nbconvert_exporter": "python",
   "pygments_lexer": "ipython3",
   "version": "3.11.10"
  }
 },
 "nbformat": 4,
 "nbformat_minor": 0
}
