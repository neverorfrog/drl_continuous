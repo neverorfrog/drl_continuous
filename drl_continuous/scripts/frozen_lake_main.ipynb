{
 "cells": [
  {
   "cell_type": "markdown",
   "metadata": {
    "id": "h4B928jSOX5V"
   },
   "source": [
    "[![Open In Colab](https://colab.research.google.com/assets/colab-badge.svg)](https://colab.research.google.com/github/neverorfrog/drl_continuous/blob/main/drl_continous/scripts/frozen_lake_main.ipynb)"
   ]
  },
  {
   "cell_type": "code",
   "execution_count": 1,
   "metadata": {
    "colab": {
     "base_uri": "https://localhost:8080/"
    },
    "id": "jfYCyHOuOX5X",
    "outputId": "630d37f7-ad9e-4186-973e-df463d6d93eb"
   },
   "outputs": [],
   "source": [
    "import sys\n",
    "import warnings\n",
    "\n",
    "warnings.filterwarnings('ignore')\n",
    "\n",
    "COLAB_RUNTIME = 'google.colab' in sys.modules\n",
    "if COLAB_RUNTIME:\n",
    "    !nvidia-smi &> /dev/null || echo -e \"\\e[31mWarning: No GPU found. Please check your runtime settings.\\e[0m\"\n",
    "    !git config --global init.defaultBranch main\n",
    "    !git init\n",
    "    !git remote add origin https://github.com/neverorfrog/drl_continuous.git\n",
    "    !git pull origin main\n",
    "    !pip install --quiet -e ."
   ]
  },
  {
   "cell_type": "code",
   "execution_count": 2,
   "metadata": {
    "colab": {
     "base_uri": "https://localhost:8080/"
    },
    "id": "Izb0EARDOX5Z",
    "outputId": "bfe3d2ca-f0ab-4dbc-bd80-d5fcb3003e68"
   },
   "outputs": [
    {
     "name": "stdout",
     "output_type": "stream",
     "text": [
      "pygame 2.5.2 (SDL 2.28.2, Python 3.11.10)\n",
      "Hello from the pygame community. https://www.pygame.org/contribute.html\n"
     ]
    }
   ],
   "source": [
    "from drl_continuous.environments import ContinuousFrozenLake\n",
    "from drl_continuous.agents import SAC\n",
    "import wandb\n",
    "from drl_continuous.utils.definitions import RewardType"
   ]
  },
  {
   "cell_type": "code",
   "execution_count": 3,
   "metadata": {
    "id": "A01EVCXdOX5Z"
   },
   "outputs": [],
   "source": [
    "env_reward_type = RewardType.model\n",
    "map_name = \"lab0\"\n",
    "experiment_name = f\"sac-{env_reward_type.name}-{map_name}\"\n",
    "env = ContinuousFrozenLake(map_name =  map_name, reward_type = env_reward_type, is_rendered = False, is_slippery = False)\n",
    "agent = SAC(name = experiment_name, env = env, max_episodes = 150)"
   ]
  },
  {
   "cell_type": "code",
   "execution_count": 4,
   "metadata": {
    "colab": {
     "base_uri": "https://localhost:8080/",
     "height": 373
    },
    "id": "Gv9vQ6waOX5a",
    "outputId": "0a816ebb-8a81-4a17-ce99-97e088905263"
   },
   "outputs": [
    {
     "name": "stderr",
     "output_type": "stream",
     "text": [
      "Failed to detect the name of this notebook, you can set it manually with the WANDB_NOTEBOOK_NAME environment variable to enable code saving.\n",
      "\u001b[34m\u001b[1mwandb\u001b[0m: Currently logged in as: \u001b[33mneverorfrog\u001b[0m (\u001b[33mneverorfrog-sapienza\u001b[0m). Use \u001b[1m`wandb login --relogin`\u001b[0m to force relogin\n"
     ]
    },
    {
     "data": {
      "text/html": [
       "wandb version 0.18.6 is available!  To upgrade, please run:\n",
       " $ pip install wandb --upgrade"
      ],
      "text/plain": [
       "<IPython.core.display.HTML object>"
      ]
     },
     "metadata": {},
     "output_type": "display_data"
    },
    {
     "data": {
      "text/html": [
       "Tracking run with wandb version 0.16.5"
      ],
      "text/plain": [
       "<IPython.core.display.HTML object>"
      ]
     },
     "metadata": {},
     "output_type": "display_data"
    },
    {
     "data": {
      "text/html": [
       "Run data is saved locally in <code>/home/neverorfrog/code/ricerca-rl/drl_continuous/drl_continuous/scripts/wandb/run-20241106_225912-r79f9mo1</code>"
      ],
      "text/plain": [
       "<IPython.core.display.HTML object>"
      ]
     },
     "metadata": {},
     "output_type": "display_data"
    },
    {
     "data": {
      "text/html": [
       "Syncing run <strong><a href='https://wandb.ai/neverorfrog-sapienza/drl-continuous-frozenlake/runs/r79f9mo1/workspace' target=\"_blank\">eager-blaze-67</a></strong> to <a href='https://wandb.ai/neverorfrog-sapienza/drl-continuous-frozenlake' target=\"_blank\">Weights & Biases</a> (<a href='https://wandb.me/run' target=\"_blank\">docs</a>)<br/>"
      ],
      "text/plain": [
       "<IPython.core.display.HTML object>"
      ]
     },
     "metadata": {},
     "output_type": "display_data"
    },
    {
     "data": {
      "text/html": [
       " View project at <a href='https://wandb.ai/neverorfrog-sapienza/drl-continuous-frozenlake' target=\"_blank\">https://wandb.ai/neverorfrog-sapienza/drl-continuous-frozenlake</a>"
      ],
      "text/plain": [
       "<IPython.core.display.HTML object>"
      ]
     },
     "metadata": {},
     "output_type": "display_data"
    },
    {
     "data": {
      "text/html": [
       " View run at <a href='https://wandb.ai/neverorfrog-sapienza/drl-continuous-frozenlake/runs/r79f9mo1/workspace' target=\"_blank\">https://wandb.ai/neverorfrog-sapienza/drl-continuous-frozenlake/runs/r79f9mo1/workspace</a>"
      ],
      "text/plain": [
       "<IPython.core.display.HTML object>"
      ]
     },
     "metadata": {},
     "output_type": "display_data"
    },
    {
     "name": "stderr",
     "output_type": "stream",
     "text": [
      "Episode 150 Mean Reward: 469.52 Ep_Reward: 332.05 Termination: GOAL REACHED: 100%|██████████| 150/150 [00:36<00:00,  4.13it/s] "
     ]
    },
    {
     "name": "stdout",
     "output_type": "stream",
     "text": [
      "MODELS SAVED!\n"
     ]
    },
    {
     "name": "stderr",
     "output_type": "stream",
     "text": [
      "\n"
     ]
    }
   ],
   "source": [
    "wandb.init(project=\"drl-continuous-frozenlake\", group=experiment_name)\n",
    "agent.train()\n",
    "agent.save()"
   ]
  },
  {
   "cell_type": "code",
   "execution_count": null,
   "metadata": {
    "id": "cGQ8itVXOX5a"
   },
   "outputs": [
    {
     "name": "stdout",
     "output_type": "stream",
     "text": [
      "MODELS LOADED!\n",
      "Starting game 1\n",
      "\tTotal Reward: 302.6039772674893\n",
      "Starting game 2\n",
      "\tTotal Reward: 302.6039772674893\n",
      "Starting game 3\n",
      "\tTotal Reward: 302.6039772674893\n",
      "Mean Reward:  302.6039772674893\n"
     ]
    },
    {
     "data": {
      "text/plain": [
       "302.6039772674893"
      ]
     },
     "execution_count": 5,
     "metadata": {},
     "output_type": "execute_result"
    },
    {
     "ename": "",
     "evalue": "",
     "output_type": "error",
     "traceback": [
      "\u001b[1;31mThe Kernel crashed while executing code in the current cell or a previous cell. \n",
      "\u001b[1;31mPlease review the code in the cell(s) to identify a possible cause of the failure. \n",
      "\u001b[1;31mClick <a href='https://aka.ms/vscodeJupyterKernelCrash'>here</a> for more info. \n",
      "\u001b[1;31mView Jupyter <a href='command:jupyter.viewOutput'>log</a> for further details."
     ]
    }
   ],
   "source": [
    "agent.load()\n",
    "env.is_rendered = True\n",
    "agent.evaluate()"
   ]
  }
 ],
 "metadata": {
  "accelerator": "GPU",
  "colab": {
   "gpuType": "T4",
   "provenance": []
  },
  "kernelspec": {
   "display_name": "drl-continous",
   "language": "python",
   "name": "python3"
  },
  "language_info": {
   "codemirror_mode": {
    "name": "ipython",
    "version": 3
   },
   "file_extension": ".py",
   "mimetype": "text/x-python",
   "name": "python",
   "nbconvert_exporter": "python",
   "pygments_lexer": "ipython3",
   "version": "3.11.10"
  }
 },
 "nbformat": 4,
 "nbformat_minor": 0
}
